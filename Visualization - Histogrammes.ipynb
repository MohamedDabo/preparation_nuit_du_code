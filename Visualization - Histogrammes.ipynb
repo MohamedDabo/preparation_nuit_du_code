{
 "cells": [
  {
   "cell_type": "code",
   "execution_count": 1,
   "metadata": {
    "collapsed": true
   },
   "outputs": [],
   "source": [
    "import matplotlib.pyplot as plt\n",
    "import seaborn as sb\n",
    "import numpy as np\n",
    "from numpy.random import randn\n",
    "%matplotlib inline"
   ]
  },
  {
   "cell_type": "code",
   "execution_count": 2,
   "metadata": {
    "collapsed": false
   },
   "outputs": [
    {
     "data": {
      "text/plain": [
       "(array([ 1.,  0.,  0.,  1.,  2.,  0.,  2.,  0.,  1.,  3.]),\n",
       " array([-1.40881361, -1.15824992, -0.90768622, -0.65712253, -0.40655884,\n",
       "        -0.15599514,  0.09456855,  0.34513225,  0.59569594,  0.84625964,\n",
       "         1.09682333]),\n",
       " <a list of 10 Patch objects>)"
      ]
     },
     "execution_count": 2,
     "metadata": {},
     "output_type": "execute_result"
    },
    {
     "data": {
      "image/png": "[encoded data removed]",
      "text/plain": [
       "<matplotlib.figure.Figure at 0x103e38358>"
      ]
     },
     "metadata": {},
     "output_type": "display_data"
    }
   ],
   "source": [
    "dataset1 = randn(10)\n",
    "plt.hist(dataset1)"
   ]
  },
  {
   "cell_type": "code",
   "execution_count": 3,
   "metadata": {
    "collapsed": false
   },
   "outputs": [
    {
     "data": {
      "text/plain": [
       "(array([  1.,   8.,  13.,   4.,  16.,  16.,   5.,   7.,   6.,   4.]),\n",
       " array([-2.13524122, -1.73847498, -1.34170875, -0.94494252, -0.54817628,\n",
       "        -0.15141005,  0.24535618,  0.64212242,  1.03888865,  1.43565488,\n",
       "         1.83242112]),\n",
       " <a list of 10 Patch objects>)"
      ]
     },
     "execution_count": 3,
     "metadata": {},
     "output_type": "execute_result"
    },
    {
     "data": {
      "image/png": "[encoded data removed]",
      "text/plain": [
       "<matplotlib.figure.Figure at 0x1164d2240>"
      ]
     },
     "metadata": {},
     "output_type": "display_data"
    }
   ],
   "source": [
    "dataset2 = randn(80)\n",
    "plt.hist(dataset2,color='indianred')"
   ]
  },
  {
   "cell_type": "code",
   "execution_count": 4,
   "metadata": {
    "collapsed": false
   },
   "outputs": [
    {
     "data": {
      "text/plain": [
       "(array([ 0.09451409,  0.        ,  0.        ,  0.18902818,  0.09451409,\n",
       "         0.47257046,  0.56708455,  0.28354227,  0.37805637,  0.09451409,\n",
       "         0.        ,  0.28354227,  0.37805637,  0.66159864,  0.47257046,\n",
       "         0.66159864,  0.47257046,  0.37805637,  0.28354227,  0.        ,\n",
       "         0.18902818,  0.09451409,  0.47257046,  0.09451409,  0.        ,\n",
       "         0.47257046,  0.09451409,  0.09451409,  0.09451409,  0.18902818]),\n",
       " array([-2.13524122, -2.00298581, -1.87073039, -1.73847498, -1.60621957,\n",
       "        -1.47396416, -1.34170875, -1.20945334, -1.07719793, -0.94494252,\n",
       "        -0.81268711, -0.68043169, -0.54817628, -0.41592087, -0.28366546,\n",
       "        -0.15141005, -0.01915464,  0.11310077,  0.24535618,  0.3776116 ,\n",
       "         0.50986701,  0.64212242,  0.77437783,  0.90663324,  1.03888865,\n",
       "         1.17114406,  1.30339947,  1.43565488,  1.5679103 ,  1.70016571,\n",
       "         1.83242112]),\n",
       " <a list of 30 Patch objects>)"
      ]
     },
     "execution_count": 4,
     "metadata": {},
     "output_type": "execute_result"
    },
    {
     "data": {
      "image/png": "[encoded data removed]",
      "text/plain": [
       "<matplotlib.figure.Figure at 0x108a711d0>"
      ]
     },
     "metadata": {},
     "output_type": "display_data"
    }
   ],
   "source": [
    "plt.hist(dataset1,alpha=0.7,color='indianred',bins=20,normed=True)\n",
    "plt.hist(dataset2,color='blue',alpha=0.2,bins=30,normed=True)"
   ]
  },
  {
   "cell_type": "code",
   "execution_count": null,
   "metadata": {
    "collapsed": true
   },
   "outputs": [],
   "source": []
  }
 ],
 "metadata": {
  "kernelspec": {
   "display_name": "Python 3",
   "language": "python",
   "name": "python3"
  },
  "language_info": {
   "codemirror_mode": {
    "name": "ipython",
    "version": 3
   },
   "file_extension": ".py",
   "mimetype": "text/x-python",
   "name": "python",
   "nbconvert_exporter": "python",
   "pygments_lexer": "ipython3",
   "version": "3.5.2"
  }
 },
 "nbformat": 4,
 "nbformat_minor": 1
}
